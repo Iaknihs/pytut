{
 "cells": [
  {
   "cell_type": "code",
   "execution_count": 5,
   "metadata": {},
   "outputs": [
    {
     "name": "stdout",
     "output_type": "stream",
     "text": [
      "Hello Darkness my old friend\n",
      "I've come to talk to you again\n",
      "I'm coding\n"
     ]
    }
   ],
   "source": [
    "print(\"Hello Darkness my old friend\")\n",
    "print(\"I've come to talk to you again\")\n",
    "print(\"I'm coding\")"
   ]
  },
  {
   "cell_type": "code",
   "execution_count": 7,
   "metadata": {
    "scrolled": true
   },
   "outputs": [
    {
     "name": "stdout",
     "output_type": "stream",
     "text": [
      "cookie variables\n"
     ]
    }
   ],
   "source": [
    "a =\"cookie variables\"\n",
    "print(a)"
   ]
  },
  {
   "cell_type": "code",
   "execution_count": 10,
   "metadata": {},
   "outputs": [
    {
     "name": "stdout",
     "output_type": "stream",
     "text": [
      "cookie variables these are variables that are invisible but can be summoned with print\n"
     ]
    }
   ],
   "source": [
    "c =\"these are variables that are invisible but can be summoned with print\"\n",
    "print(a,c)\n"
   ]
  },
  {
   "cell_type": "code",
   "execution_count": 11,
   "metadata": {},
   "outputs": [
    {
     "name": "stdout",
     "output_type": "stream",
     "text": [
      "10\n"
     ]
    }
   ],
   "source": [
    "print(3+7)"
   ]
  },
  {
   "cell_type": "code",
   "execution_count": 12,
   "metadata": {},
   "outputs": [
    {
     "name": "stdout",
     "output_type": "stream",
     "text": [
      "heh no\n"
     ]
    }
   ],
   "source": [
    "print(\"heh no\")"
   ]
  },
  {
   "cell_type": "code",
   "execution_count": 15,
   "metadata": {},
   "outputs": [
    {
     "name": "stdout",
     "output_type": "stream",
     "text": [
      "heh no 15\n",
      "0.7734\n"
     ]
    }
   ],
   "source": [
    "print(\"heh no\",5+10)\n",
    "print(0.7734)"
   ]
  },
  {
   "cell_type": "code",
   "execution_count": 21,
   "metadata": {},
   "outputs": [
    {
     "name": "stdout",
     "output_type": "stream",
     "text": [
      "heh no 15\n"
     ]
    }
   ],
   "source": [
    "print(\"heh no \"+str(5+10))"
   ]
  },
  {
   "cell_type": "code",
   "execution_count": 24,
   "metadata": {},
   "outputs": [
    {
     "name": "stdout",
     "output_type": "stream",
     "text": [
      "[3, 5, 7]\n"
     ]
    }
   ],
   "source": [
    "b =[3,5,7]\n",
    "print(b)"
   ]
  },
  {
   "cell_type": "code",
   "execution_count": 25,
   "metadata": {},
   "outputs": [
    {
     "name": "stdout",
     "output_type": "stream",
     "text": [
      "[3, 5, 7, 65]\n"
     ]
    }
   ],
   "source": [
    "b.append(65)\n",
    "print(b)"
   ]
  },
  {
   "cell_type": "code",
   "execution_count": 28,
   "metadata": {},
   "outputs": [
    {
     "name": "stdout",
     "output_type": "stream",
     "text": [
      "3\n"
     ]
    }
   ],
   "source": [
    "print(b[0])"
   ]
  },
  {
   "cell_type": "code",
   "execution_count": 31,
   "metadata": {},
   "outputs": [
    {
     "name": "stdout",
     "output_type": "stream",
     "text": [
      "dragons\n"
     ]
    }
   ],
   "source": [
    "d=False\n",
    "if d is True:\n",
    "    print(\"pie\")\n",
    "else:\n",
    "    print(\"dragons\")"
   ]
  },
  {
   "cell_type": "code",
   "execution_count": 76,
   "metadata": {},
   "outputs": [
    {
     "name": "stdout",
     "output_type": "stream",
     "text": [
      "move onto next area\n"
     ]
    }
   ],
   "source": [
    "import random \n",
    "random.seed(None)\n",
    "a=random.randint(0,1)\n",
    "if a ==1:\n",
    "    print(\"move onto next area\")\n",
    "else:\n",
    "    print(\"you ded\")"
   ]
  },
  {
   "cell_type": "code",
   "execution_count": 78,
   "metadata": {},
   "outputs": [
    {
     "name": "stdout",
     "output_type": "stream",
     "text": [
      "move onto next area\n"
     ]
    }
   ],
   "source": [
    "import random \n",
    "random.seed(None)\n",
    "a=random.randint(0,1)\n",
    "if a ==1:\n",
    "    print(\"move onto next area\")\n",
    "else:\n",
    "    print(\"you ded\")"
   ]
  },
  {
   "cell_type": "code",
   "execution_count": 81,
   "metadata": {},
   "outputs": [
    {
     "name": "stdout",
     "output_type": "stream",
     "text": [
      "fit\n",
      "fight me bish\n"
     ]
    }
   ],
   "source": [
    "a=input()\n",
    "print(receiver)"
   ]
  },
  {
   "cell_type": "code",
   "execution_count": 1,
   "metadata": {},
   "outputs": [
    {
     "name": "stdout",
     "output_type": "stream",
     "text": [
      "fight me bish\n",
      "you ded\n"
     ]
    }
   ],
   "source": [
    "a=input()\n",
    "if a ==\"flee monster\":\n",
    "    print(\"move onto next area\")\n",
    "elif a==\"fight me bish\":\n",
    "    print(\"you ded\")"
   ]
  },
  {
   "cell_type": "code",
   "execution_count": 4,
   "metadata": {},
   "outputs": [
    {
     "name": "stdout",
     "output_type": "stream",
     "text": [
      "5+7\n",
      "10\n",
      "you ded\n"
     ]
    }
   ],
   "source": [
    "print(\"5+7\")\n",
    "a=input()\n",
    "if a ==\"12\":\n",
    "    print(\"move onto next area\")\n",
    "else:\n",
    "    print(\"you ded\")"
   ]
  },
  {
   "cell_type": "code",
   "execution_count": 8,
   "metadata": {},
   "outputs": [
    {
     "name": "stdout",
     "output_type": "stream",
     "text": [
      "Hello and welcome to maths\n",
      "You will be asked a series of maths question, get them correct and move on, else you ded\n",
      "Lets start with an easy one\n",
      "What is 5+7\n",
      "13\n",
      "incorrect, you suck and you ded, shame on you, shame on your cow, shame on your family!\n"
     ]
    }
   ],
   "source": [
    "print(\"Hello and welcome to maths\")\n",
    "print(\"You will be asked a series of maths question, get them correct and move on, else you ded\")\n",
    "print(\"Lets start with an easy one\")\n",
    "print(\"What is 5+7\")\n",
    "\n",
    "if input() ==\"12\":\n",
    "    print(\"correct! move onto the next question\")\n",
    "else:\n",
    "    print(\"incorrect, you suck and you ded, shame on you, shame on your cow, shame on your family!\")"
   ]
  },
  {
   "cell_type": "code",
   "execution_count": 11,
   "metadata": {},
   "outputs": [
    {
     "name": "stdout",
     "output_type": "stream",
     "text": [
      "Hello and welcome to maths\n",
      "You will be asked a series of maths question, get them correct and move on, else you ded\n",
      "Lets start with an easy one\n",
      "What is  23 + 77 ?\n",
      "2\n",
      "incorrect, you suck and you ded, shame on you, shame on your cow, shame on your family!\n"
     ]
    }
   ],
   "source": [
    "import random \n",
    "print(\"Hello and welcome to maths\")\n",
    "print(\"You will be asked a series of maths question, get them correct and move on, else you ded\")\n",
    "print(\"Lets start with an easy one\")\n",
    "b=random.randint(22,45)\n",
    "c=random.randint(67,88)\n",
    "print(\"What is \",b,\"+\",c,\"?\")\n",
    "\n",
    "if input() ==str(b+c):\n",
    "    print(\"correct! move onto the next question\")\n",
    "else:\n",
    "    print(\"incorrect, you suck and you ded, shame on you, shame on your cow, shame on your family!\")"
   ]
  },
  {
   "cell_type": "code",
   "execution_count": 15,
   "metadata": {},
   "outputs": [
    {
     "name": "stdout",
     "output_type": "stream",
     "text": [
      "All your chickens belong to I\n",
      "unless you beat me at cards\n",
      "I lied, what is  279 + 283 ?\n",
      "-4\n",
      "correct, I'm bad at maths\n"
     ]
    }
   ],
   "source": [
    "import random\n",
    "print(\"All your chickens belong to I\")\n",
    "print(\"unless you beat me at cards\")\n",
    "d=random.randint(265,345)\n",
    "e=random.randint(234,543)\n",
    "print(\"I lied, what is \",d,\"+\",e,\"?\")\n",
    "\n",
    "if input() ==str(d-e):\n",
    "    print(\"correct, I'm bad at maths\")\n",
    "else:\n",
    "    print(\"incorrect, omg you suck....wait what do you mean I got it wrong, how dare you accuse me of math shittery!\")"
   ]
  },
  {
   "cell_type": "code",
   "execution_count": null,
   "metadata": {},
   "outputs": [],
   "source": []
  }
 ],
 "metadata": {
  "kernelspec": {
   "display_name": "Python 3",
   "language": "python",
   "name": "python3"
  },
  "language_info": {
   "codemirror_mode": {
    "name": "ipython",
    "version": 3
   },
   "file_extension": ".py",
   "mimetype": "text/x-python",
   "name": "python",
   "nbconvert_exporter": "python",
   "pygments_lexer": "ipython3",
   "version": "3.6.8"
  }
 },
 "nbformat": 4,
 "nbformat_minor": 2
}
